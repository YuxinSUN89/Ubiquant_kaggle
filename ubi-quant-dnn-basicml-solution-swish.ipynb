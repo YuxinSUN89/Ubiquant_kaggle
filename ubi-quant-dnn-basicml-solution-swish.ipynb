{
 "cells": [
  {
   "cell_type": "code",
   "execution_count": 1,
   "id": "a6a57eb0",
   "metadata": {
    "_cell_guid": "b1076dfc-b9ad-4769-8c92-a6c4dae69d19",
    "_uuid": "8f2839f25d086af736a60e9eeb907d3b93b6e0e5",
    "execution": {
     "iopub.execute_input": "2022-03-14T15:23:04.766701Z",
     "iopub.status.busy": "2022-03-14T15:23:04.765172Z",
     "iopub.status.idle": "2022-03-14T15:23:10.212320Z",
     "shell.execute_reply": "2022-03-14T15:23:10.211117Z",
     "shell.execute_reply.started": "2022-03-14T14:47:25.659148Z"
    },
    "papermill": {
     "duration": 5.468402,
     "end_time": "2022-03-14T15:23:10.212489",
     "exception": false,
     "start_time": "2022-03-14T15:23:04.744087",
     "status": "completed"
    },
    "tags": []
   },
   "outputs": [],
   "source": [
    "# This Python 3 environment comes with many helpful analytics libraries installed\n",
    "# It is defined by the kaggle/python Docker image: https://github.com/kaggle/docker-python\n",
    "# For example, here's several helpful packages to load\n",
    "\n",
    "import numpy as np # linear algebra\n",
    "import pandas as pd # data processing, CSV file I/O (e.g. pd.read_csv)\n",
    "\n",
    "# Input data files are available in the read-only \"../input/\" directory\n",
    "# For example, running this (by clicking run or pressing Shift+Enter) will list all files under the input directory\n",
    "\n",
    "import os\n",
    "from pathlib import Path\n",
    "from argparse import Namespace\n",
    "from collections import defaultdict\n",
    "import matplotlib as plt\n",
    "\n",
    "from sklearn import preprocessing\n",
    "from sklearn.metrics import mean_squared_error\n",
    "\n",
    "import tensorflow as tf\n",
    "from tensorflow.keras import layers\n",
    "from tensorflow import keras\n",
    "from scipy import stats\n",
    "\n",
    "from scipy.stats import mstats\n",
    "\n",
    "import warnings\n",
    "warnings.filterwarnings(\"ignore\")\n",
    "\n",
    "import xgboost as xgb\n",
    "\n",
    "# You can write up to 20GB to the current directory (/kaggle/working/) that gets preserved as output when you create a version using \"Save & Run All\" \n",
    "# You can also write temporary files to /kaggle/temp/, but they won't be saved outside of the current session"
   ]
  },
  {
   "cell_type": "code",
   "execution_count": 2,
   "id": "a828fc84",
   "metadata": {
    "execution": {
     "iopub.execute_input": "2022-03-14T15:23:10.251709Z",
     "iopub.status.busy": "2022-03-14T15:23:10.247689Z",
     "iopub.status.idle": "2022-03-14T15:23:10.254054Z",
     "shell.execute_reply": "2022-03-14T15:23:10.253621Z",
     "shell.execute_reply.started": "2022-03-14T14:47:31.599847Z"
    },
    "papermill": {
     "duration": 0.027176,
     "end_time": "2022-03-14T15:23:10.254164",
     "exception": false,
     "start_time": "2022-03-14T15:23:10.226988",
     "status": "completed"
    },
    "tags": []
   },
   "outputs": [],
   "source": [
    "# winsorize outliers !!!!\n",
    "def reduce_mem_usage(df):\n",
    "    \"\"\" iterate through all the columns of a dataframe and modify the data type\n",
    "        to reduce memory usage.        \n",
    "    \"\"\"\n",
    "    start_mem = df.memory_usage().sum() / 1024**2\n",
    "    print('Memory usage of dataframe is {:.2f} MB'.format(start_mem))\n",
    "    for col in df.columns:\n",
    "#         df[col] = mstats.winsorize(df[col], limits=[0.001, 0.001])\n",
    "        col_type = df[col].dtype\n",
    "        \n",
    "        if col_type != object:\n",
    "            c_min = df[col].min()\n",
    "            c_max = df[col].max()\n",
    "            if str(col_type)[:3] == 'int':\n",
    "                if c_min > np.iinfo(np.int8).min and c_max < np.iinfo(np.int8).max:\n",
    "                    df[col] = df[col].astype(np.int8)\n",
    "                elif c_min > np.iinfo(np.int16).min and c_max < np.iinfo(np.int16).max:\n",
    "                    df[col] = df[col].astype(np.int16)\n",
    "                elif c_min > np.iinfo(np.int32).min and c_max < np.iinfo(np.int32).max:\n",
    "                    df[col] = df[col].astype(np.int32)\n",
    "                elif c_min > np.iinfo(np.int64).min and c_max < np.iinfo(np.int64).max:\n",
    "                    df[col] = df[col].astype(np.int64)  \n",
    "            else:\n",
    "                #if c_min > np.finfo(np.float16).min and c_max < np.finfo(np.float16).max:\n",
    "                #    df[col] = df[col].astype(np.float16)\n",
    "                #elif c_min > np.finfo(np.float32).min and c_max < np.finfo(np.float32).max:\n",
    "                #    df[col] = df[col].astype(np.float32)\n",
    "                #else:\n",
    "                df[col] = df[col].astype(np.float16)\n",
    "        else:\n",
    "            df[col] = df[col].astype('category')\n",
    "\n",
    "    end_mem = df.memory_usage().sum() / 1024**2\n",
    "    print('Memory usage after optimization is: {:.2f} MB'.format(end_mem))\n",
    "    print('Decreased by {:.1f}%'.format(100 * (start_mem - end_mem) / start_mem))\n",
    "    \n",
    "    return df"
   ]
  },
  {
   "cell_type": "code",
   "execution_count": 3,
   "id": "94e913cb",
   "metadata": {
    "execution": {
     "iopub.execute_input": "2022-03-14T15:23:10.285134Z",
     "iopub.status.busy": "2022-03-14T15:23:10.284328Z",
     "iopub.status.idle": "2022-03-14T15:23:50.814457Z",
     "shell.execute_reply": "2022-03-14T15:23:50.813959Z",
     "shell.execute_reply.started": "2022-03-14T14:47:31.613269Z"
    },
    "papermill": {
     "duration": 40.546736,
     "end_time": "2022-03-14T15:23:50.814587",
     "exception": false,
     "start_time": "2022-03-14T15:23:10.267851",
     "status": "completed"
    },
    "tags": []
   },
   "outputs": [],
   "source": [
    "\n",
    "#train = pd.read_csv('../input/ubiquant-market-prediction/train.csv')\n",
    "train = pd.read_parquet('../input/ubiquant-parquet/train_low_mem.parquet')"
   ]
  },
  {
   "cell_type": "code",
   "execution_count": 4,
   "id": "8499218f",
   "metadata": {
    "execution": {
     "iopub.execute_input": "2022-03-14T15:23:50.907218Z",
     "iopub.status.busy": "2022-03-14T15:23:50.847138Z",
     "iopub.status.idle": "2022-03-14T15:26:56.238360Z",
     "shell.execute_reply": "2022-03-14T15:26:56.239020Z",
     "shell.execute_reply.started": "2022-03-14T14:48:10.941411Z"
    },
    "papermill": {
     "duration": 185.410691,
     "end_time": "2022-03-14T15:26:56.239237",
     "exception": false,
     "start_time": "2022-03-14T15:23:50.828546",
     "status": "completed"
    },
    "tags": []
   },
   "outputs": [
    {
     "name": "stdout",
     "output_type": "stream",
     "text": [
      "Memory usage of dataframe is 3642.99 MB\n",
      "Memory usage after optimization is: 1915.96 MB\n",
      "Decreased by 47.4%\n"
     ]
    }
   ],
   "source": [
    "# Preprocess and winsorize !\n",
    "train = reduce_mem_usage(train)\n"
   ]
  },
  {
   "cell_type": "markdown",
   "id": "42e7c1b3",
   "metadata": {
    "execution": {
     "iopub.execute_input": "2022-02-17T17:57:54.327931Z",
     "iopub.status.busy": "2022-02-17T17:57:54.327646Z",
     "iopub.status.idle": "2022-02-17T17:57:54.724505Z",
     "shell.execute_reply": "2022-02-17T17:57:54.723804Z",
     "shell.execute_reply.started": "2022-02-17T17:57:54.327901Z"
    },
    "papermill": {
     "duration": 0.013856,
     "end_time": "2022-03-14T15:26:56.268448",
     "exception": false,
     "start_time": "2022-03-14T15:26:56.254592",
     "status": "completed"
    },
    "tags": []
   },
   "source": [
    "l=100\n",
    "train=trains[trains['investment_id']<=l]\n",
    "test=trains[(trains['investment_id']>l) & (trains['investment_id']<l+20)]\n",
    "train.head()"
   ]
  },
  {
   "cell_type": "code",
   "execution_count": 5,
   "id": "73235f92",
   "metadata": {
    "execution": {
     "iopub.execute_input": "2022-03-14T15:26:56.466824Z",
     "iopub.status.busy": "2022-03-14T15:26:56.466204Z",
     "iopub.status.idle": "2022-03-14T15:26:56.470178Z",
     "shell.execute_reply": "2022-03-14T15:26:56.469611Z",
     "shell.execute_reply.started": "2022-03-14T14:51:15.349450Z"
    },
    "papermill": {
     "duration": 0.187351,
     "end_time": "2022-03-14T15:26:56.470330",
     "exception": false,
     "start_time": "2022-03-14T15:26:56.282979",
     "status": "completed"
    },
    "tags": []
   },
   "outputs": [],
   "source": [
    "import gc\n",
    "gc.collect()\n",
    "test_cols = ['investment_id']\n",
    "feature = [c for c in train.columns if \"f_\" in c]\n",
    "features = test_cols + feature\n"
   ]
  },
  {
   "cell_type": "code",
   "execution_count": 6,
   "id": "b81b2cb5",
   "metadata": {
    "execution": {
     "iopub.execute_input": "2022-03-14T15:26:56.612408Z",
     "iopub.status.busy": "2022-03-14T15:26:56.610944Z",
     "iopub.status.idle": "2022-03-14T15:26:56.614798Z",
     "shell.execute_reply": "2022-03-14T15:26:56.615218Z",
     "shell.execute_reply.started": "2022-03-14T14:51:15.525910Z"
    },
    "papermill": {
     "duration": 0.130396,
     "end_time": "2022-03-14T15:26:56.615372",
     "exception": false,
     "start_time": "2022-03-14T15:26:56.484976",
     "status": "completed"
    },
    "tags": []
   },
   "outputs": [],
   "source": [
    "_ = train.pop(\"row_id\")\n",
    "_ = train.pop(\"time_id\")"
   ]
  },
  {
   "cell_type": "code",
   "execution_count": 7,
   "id": "1e2dd08a",
   "metadata": {
    "execution": {
     "iopub.execute_input": "2022-03-14T15:26:56.648186Z",
     "iopub.status.busy": "2022-03-14T15:26:56.647535Z",
     "iopub.status.idle": "2022-03-14T15:26:56.651064Z",
     "shell.execute_reply": "2022-03-14T15:26:56.650614Z",
     "shell.execute_reply.started": "2022-03-14T14:51:15.643280Z"
    },
    "papermill": {
     "duration": 0.021214,
     "end_time": "2022-03-14T15:26:56.651175",
     "exception": false,
     "start_time": "2022-03-14T15:26:56.629961",
     "status": "completed"
    },
    "tags": []
   },
   "outputs": [],
   "source": [
    "# train.head()"
   ]
  },
  {
   "cell_type": "markdown",
   "id": "95d96033",
   "metadata": {
    "execution": {
     "iopub.execute_input": "2022-02-17T17:59:12.261299Z",
     "iopub.status.busy": "2022-02-17T17:59:12.260771Z",
     "iopub.status.idle": "2022-02-17T17:59:13.55776Z",
     "shell.execute_reply": "2022-02-17T17:59:13.557016Z",
     "shell.execute_reply.started": "2022-02-17T17:59:12.261262Z"
    },
    "papermill": {
     "duration": 0.014043,
     "end_time": "2022-03-14T15:26:56.679877",
     "exception": false,
     "start_time": "2022-03-14T15:26:56.665834",
     "status": "completed"
    },
    "tags": []
   },
   "source": [
    "df=test\n",
    "df['row_id']=((df['row_id']).str.strip())\n",
    "#df['len']=pd.to_numeric((df['row_id']).str.len()-2)\n",
    "df['row_id']=df['row_id'].apply(lambda x:x[0:x.find('_')])\n",
    "df['time_id']=pd.to_numeric(df['row_id'])\n",
    "test=df\n",
    "test.drop('row_id',axis=1,inplace=True)"
   ]
  },
  {
   "cell_type": "code",
   "execution_count": 8,
   "id": "14937a2b",
   "metadata": {
    "execution": {
     "iopub.execute_input": "2022-03-14T15:26:56.720414Z",
     "iopub.status.busy": "2022-03-14T15:26:56.719594Z",
     "iopub.status.idle": "2022-03-14T15:26:56.728041Z",
     "shell.execute_reply": "2022-03-14T15:26:56.727592Z",
     "shell.execute_reply.started": "2022-03-14T14:51:15.650467Z"
    },
    "papermill": {
     "duration": 0.03395,
     "end_time": "2022-03-14T15:26:56.728148",
     "exception": false,
     "start_time": "2022-03-14T15:26:56.694198",
     "status": "completed"
    },
    "tags": []
   },
   "outputs": [],
   "source": [
    "\n",
    "y = train.pop(\"target\")\n",
    "investment_id = train.pop(\"investment_id\")"
   ]
  },
  {
   "cell_type": "code",
   "execution_count": 9,
   "id": "be69c4af",
   "metadata": {
    "execution": {
     "iopub.execute_input": "2022-03-14T15:26:56.761121Z",
     "iopub.status.busy": "2022-03-14T15:26:56.760383Z",
     "iopub.status.idle": "2022-03-14T15:26:59.596024Z",
     "shell.execute_reply": "2022-03-14T15:26:59.596912Z",
     "shell.execute_reply.started": "2022-03-14T14:51:15.668277Z"
    },
    "papermill": {
     "duration": 2.854833,
     "end_time": "2022-03-14T15:26:59.597111",
     "exception": false,
     "start_time": "2022-03-14T15:26:56.742278",
     "status": "completed"
    },
    "tags": []
   },
   "outputs": [
    {
     "name": "stderr",
     "output_type": "stream",
     "text": [
      "2022-03-14 15:26:56.940106: I tensorflow/stream_executor/cuda/cuda_gpu_executor.cc:937] successful NUMA node read from SysFS had negative value (-1), but there must be at least one NUMA node, so returning NUMA node zero\n",
      "2022-03-14 15:26:57.070431: I tensorflow/stream_executor/cuda/cuda_gpu_executor.cc:937] successful NUMA node read from SysFS had negative value (-1), but there must be at least one NUMA node, so returning NUMA node zero\n",
      "2022-03-14 15:26:57.071545: I tensorflow/stream_executor/cuda/cuda_gpu_executor.cc:937] successful NUMA node read from SysFS had negative value (-1), but there must be at least one NUMA node, so returning NUMA node zero\n",
      "2022-03-14 15:26:57.075817: I tensorflow/core/platform/cpu_feature_guard.cc:142] This TensorFlow binary is optimized with oneAPI Deep Neural Network Library (oneDNN) to use the following CPU instructions in performance-critical operations:  AVX2 AVX512F FMA\n",
      "To enable them in other operations, rebuild TensorFlow with the appropriate compiler flags.\n",
      "2022-03-14 15:26:57.076382: I tensorflow/stream_executor/cuda/cuda_gpu_executor.cc:937] successful NUMA node read from SysFS had negative value (-1), but there must be at least one NUMA node, so returning NUMA node zero\n",
      "2022-03-14 15:26:57.077573: I tensorflow/stream_executor/cuda/cuda_gpu_executor.cc:937] successful NUMA node read from SysFS had negative value (-1), but there must be at least one NUMA node, so returning NUMA node zero\n",
      "2022-03-14 15:26:57.078676: I tensorflow/stream_executor/cuda/cuda_gpu_executor.cc:937] successful NUMA node read from SysFS had negative value (-1), but there must be at least one NUMA node, so returning NUMA node zero\n",
      "2022-03-14 15:26:58.907929: I tensorflow/stream_executor/cuda/cuda_gpu_executor.cc:937] successful NUMA node read from SysFS had negative value (-1), but there must be at least one NUMA node, so returning NUMA node zero\n",
      "2022-03-14 15:26:58.908724: I tensorflow/stream_executor/cuda/cuda_gpu_executor.cc:937] successful NUMA node read from SysFS had negative value (-1), but there must be at least one NUMA node, so returning NUMA node zero\n",
      "2022-03-14 15:26:58.909431: I tensorflow/stream_executor/cuda/cuda_gpu_executor.cc:937] successful NUMA node read from SysFS had negative value (-1), but there must be at least one NUMA node, so returning NUMA node zero\n",
      "2022-03-14 15:26:58.910616: I tensorflow/core/common_runtime/gpu/gpu_device.cc:1510] Created device /job:localhost/replica:0/task:0/device:GPU:0 with 15403 MB memory:  -> device: 0, name: Tesla P100-PCIE-16GB, pci bus id: 0000:00:04.0, compute capability: 6.0\n",
      "2022-03-14 15:26:59.328435: I tensorflow/compiler/mlir/mlir_graph_optimization_pass.cc:185] None of the MLIR Optimization Passes are enabled (registered 2)\n"
     ]
    },
    {
     "name": "stdout",
     "output_type": "stream",
     "text": [
      "CPU times: user 865 ms, sys: 587 ms, total: 1.45 s\n",
      "Wall time: 2.83 s\n"
     ]
    }
   ],
   "source": [
    "%%time\n",
    "investment_ids = list(investment_id.unique())\n",
    "investment_id_size = len(investment_ids) + 1\n",
    "investment_id_lookup_layer = layers.IntegerLookup(max_tokens=investment_id_size)\n",
    "investment_id_lookup_layer.adapt(pd.DataFrame({\"investment_ids\":investment_ids}))"
   ]
  },
  {
   "cell_type": "code",
   "execution_count": 10,
   "id": "6333d7b9",
   "metadata": {
    "execution": {
     "iopub.execute_input": "2022-03-14T15:26:59.636033Z",
     "iopub.status.busy": "2022-03-14T15:26:59.634251Z",
     "iopub.status.idle": "2022-03-14T15:26:59.636584Z",
     "shell.execute_reply": "2022-03-14T15:26:59.637022Z",
     "shell.execute_reply.started": "2022-03-14T14:51:18.211564Z"
    },
    "papermill": {
     "duration": 0.024007,
     "end_time": "2022-03-14T15:26:59.637148",
     "exception": false,
     "start_time": "2022-03-14T15:26:59.613141",
     "status": "completed"
    },
    "tags": []
   },
   "outputs": [],
   "source": [
    "import tensorflow as tf\n",
    "def preprocess(X, y):\n",
    "    return X, y\n",
    "def make_dataset(feature, y, batch_size=1024, mode=\"train\"):\n",
    "    ds = tf.data.Dataset.from_tensor_slices(((feature), y))\n",
    "    \n",
    "\n",
    "    ds = ds.map(preprocess)\n",
    "    if mode == \"train\":\n",
    "        ds = ds.shuffle(4096)\n",
    "    \n",
    "    ds = ds.batch(batch_size).cache().prefetch(tf.data.experimental.AUTOTUNE)\n",
    "    return ds"
   ]
  },
  {
   "cell_type": "code",
   "execution_count": 11,
   "id": "77a31fba",
   "metadata": {
    "execution": {
     "iopub.execute_input": "2022-03-14T15:26:59.681377Z",
     "iopub.status.busy": "2022-03-14T15:26:59.679702Z",
     "iopub.status.idle": "2022-03-14T15:26:59.681982Z",
     "shell.execute_reply": "2022-03-14T15:26:59.682389Z",
     "shell.execute_reply.started": "2022-03-14T14:51:18.219026Z"
    },
    "papermill": {
     "duration": 0.030271,
     "end_time": "2022-03-14T15:26:59.682502",
     "exception": false,
     "start_time": "2022-03-14T15:26:59.652231",
     "status": "completed"
    },
    "tags": []
   },
   "outputs": [],
   "source": [
    "def get_model():\n",
    "    investment_id_inputs = tf.keras.Input((1, ), dtype=tf.uint16)\n",
    "    features_inputs = tf.keras.Input((300, ), dtype=tf.float16)\n",
    "    \n",
    "    investment_id_x = investment_id_lookup_layer(investment_id_inputs)\n",
    "    investment_id_x = layers.Embedding(investment_id_size, 32, input_length=1)(investment_id_x)\n",
    "    investment_id_x = layers.Reshape((-1, ))(investment_id_x)\n",
    "    investment_id_x = layers.Dense(64, activation='swish')(investment_id_x)\n",
    "    investment_id_x = layers.Dense(64, activation='swish')(investment_id_x)\n",
    "    investment_id_x = layers.Dense(64, activation='swish')(investment_id_x)\n",
    "    \n",
    "    feature_x = layers.Dense(512, activation='swish')(features_inputs)\n",
    "    feature_x = layers.Dense(512, activation='swish')(feature_x)\n",
    "    feature_x = layers.Dense(515, activation='swish')(feature_x)\n",
    "    \n",
    "    x = layers.Concatenate(axis=1)([investment_id_x, feature_x])\n",
    "    x = layers.Dense(512, activation='swish', kernel_regularizer=\"l2\")(feature_x)   # -> change this to feature_x\n",
    "    x = layers.Dense(512, activation='swish', kernel_regularizer=\"l2\")(x)\n",
    "    x = layers.Dropout(0.2)(x)\n",
    "    x = layers.Dense(256, activation='swish', kernel_regularizer=\"l2\")(x)\n",
    "    x = layers.Dropout(0.15)(x)\n",
    "    x = layers.Dense(128, activation='swish', kernel_regularizer=\"l2\")(x)\n",
    "    x = layers.Dropout(0.2)(x)\n",
    "    x = layers.Dense(64, activation='swish', kernel_regularizer=\"l2\")(x)\n",
    "    x = layers.Dropout(0.2)(x)\n",
    "    x = layers.Dense(32, activation='swish', kernel_regularizer=\"l2\")(x) \n",
    "    output = layers.Dense(1)(x)\n",
    "    rmse = keras.metrics.RootMeanSquaredError(name=\"rmse\")\n",
    "    model = tf.keras.Model(inputs=[features_inputs], outputs=[output])\n",
    "    model.compile(optimizer=tf.optimizers.Adam(0.0001), loss='mse', metrics=['mse', \"mae\", \"mape\", rmse])\n",
    "    return model"
   ]
  },
  {
   "cell_type": "code",
   "execution_count": 12,
   "id": "414067ae",
   "metadata": {
    "execution": {
     "iopub.execute_input": "2022-03-14T15:26:59.721248Z",
     "iopub.status.busy": "2022-03-14T15:26:59.720445Z",
     "iopub.status.idle": "2022-03-14T15:27:00.799436Z",
     "shell.execute_reply": "2022-03-14T15:27:00.798950Z",
     "shell.execute_reply.started": "2022-03-14T14:51:18.237283Z"
    },
    "papermill": {
     "duration": 1.101772,
     "end_time": "2022-03-14T15:27:00.799565",
     "exception": false,
     "start_time": "2022-03-14T15:26:59.697793",
     "status": "completed"
    },
    "tags": []
   },
   "outputs": [
    {
     "name": "stdout",
     "output_type": "stream",
     "text": [
      "Model: \"model\"\n",
      "_________________________________________________________________\n",
      "Layer (type)                 Output Shape              Param #   \n",
      "=================================================================\n",
      "input_2 (InputLayer)         [(None, 300)]             0         \n",
      "_________________________________________________________________\n",
      "dense_3 (Dense)              (None, 512)               154112    \n",
      "_________________________________________________________________\n",
      "dense_4 (Dense)              (None, 512)               262656    \n",
      "_________________________________________________________________\n",
      "dense_5 (Dense)              (None, 515)               264195    \n",
      "_________________________________________________________________\n",
      "dense_6 (Dense)              (None, 512)               264192    \n",
      "_________________________________________________________________\n",
      "dense_7 (Dense)              (None, 512)               262656    \n",
      "_________________________________________________________________\n",
      "dropout (Dropout)            (None, 512)               0         \n",
      "_________________________________________________________________\n",
      "dense_8 (Dense)              (None, 256)               131328    \n",
      "_________________________________________________________________\n",
      "dropout_1 (Dropout)          (None, 256)               0         \n",
      "_________________________________________________________________\n",
      "dense_9 (Dense)              (None, 128)               32896     \n",
      "_________________________________________________________________\n",
      "dropout_2 (Dropout)          (None, 128)               0         \n",
      "_________________________________________________________________\n",
      "dense_10 (Dense)             (None, 64)                8256      \n",
      "_________________________________________________________________\n",
      "dropout_3 (Dropout)          (None, 64)                0         \n",
      "_________________________________________________________________\n",
      "dense_11 (Dense)             (None, 32)                2080      \n",
      "_________________________________________________________________\n",
      "dense_12 (Dense)             (None, 1)                 33        \n",
      "=================================================================\n",
      "Total params: 1,382,404\n",
      "Trainable params: 1,382,404\n",
      "Non-trainable params: 0\n",
      "_________________________________________________________________\n"
     ]
    },
    {
     "data": {
      "image/png": "[encoded data removed]",
      "text/plain": [
       "<IPython.core.display.Image object>"
      ]
     },
     "execution_count": 12,
     "metadata": {},
     "output_type": "execute_result"
    }
   ],
   "source": [
    "model = get_model()\n",
    "model.summary()\n",
    "keras.utils.plot_model(model, show_shapes=True)"
   ]
  },
  {
   "cell_type": "code",
   "execution_count": 13,
   "id": "4d9993c4",
   "metadata": {
    "execution": {
     "iopub.execute_input": "2022-03-14T15:27:01.032309Z",
     "iopub.status.busy": "2022-03-14T15:27:01.031381Z",
     "iopub.status.idle": "2022-03-14T15:27:01.038560Z",
     "shell.execute_reply": "2022-03-14T15:27:01.038965Z",
     "shell.execute_reply.started": "2022-03-14T14:51:19.342523Z"
    },
    "papermill": {
     "duration": 0.220752,
     "end_time": "2022-03-14T15:27:01.039127",
     "exception": false,
     "start_time": "2022-03-14T15:27:00.818375",
     "status": "completed"
    },
    "tags": []
   },
   "outputs": [
    {
     "data": {
      "text/plain": [
       "5619"
      ]
     },
     "execution_count": 13,
     "metadata": {},
     "output_type": "execute_result"
    }
   ],
   "source": [
    "import gc\n",
    "gc.collect()"
   ]
  },
  {
   "cell_type": "code",
   "execution_count": 14,
   "id": "6a0303a3",
   "metadata": {
    "execution": {
     "iopub.execute_input": "2022-03-14T15:27:01.084284Z",
     "iopub.status.busy": "2022-03-14T15:27:01.083547Z",
     "iopub.status.idle": "2022-03-14T15:42:19.771152Z",
     "shell.execute_reply": "2022-03-14T15:42:19.770478Z",
     "shell.execute_reply.started": "2022-03-14T14:51:19.542075Z"
    },
    "papermill": {
     "duration": 918.713189,
     "end_time": "2022-03-14T15:42:19.771329",
     "exception": false,
     "start_time": "2022-03-14T15:27:01.058140",
     "status": "completed"
    },
    "tags": []
   },
   "outputs": [
    {
     "name": "stderr",
     "output_type": "stream",
     "text": [
      "2022-03-14 15:27:15.320229: W tensorflow/core/framework/cpu_allocator_impl.cc:80] Allocation of 1507876800 exceeds 10% of free system memory.\n",
      "2022-03-14 15:27:16.850810: W tensorflow/core/framework/cpu_allocator_impl.cc:80] Allocation of 1507876800 exceeds 10% of free system memory.\n",
      "2022-03-14 15:27:19.218435: W tensorflow/core/framework/cpu_allocator_impl.cc:80] Allocation of 1507876800 exceeds 10% of free system memory.\n",
      "2022-03-14 15:27:20.140511: W tensorflow/core/framework/cpu_allocator_impl.cc:80] Allocation of 1507876800 exceeds 10% of free system memory.\n"
     ]
    },
    {
     "name": "stdout",
     "output_type": "stream",
     "text": [
      "Epoch 1/100\n",
      "2455/2455 [==============================] - 22s 8ms/step - loss: 2.7624 - mse: 0.8379 - mae: 0.6268 - mape: 96709.6953 - rmse: 0.9154 - val_loss: 0.8560 - val_mse: 0.8371 - val_mae: 0.6290 - val_mape: 154870.8750 - val_rmse: 0.9149\n"
     ]
    },
    {
     "name": "stderr",
     "output_type": "stream",
     "text": [
      "2022-03-14 15:27:43.468756: W tensorflow/python/util/util.cc:348] Sets are not currently considered sequences, but this may change in the future, so consider avoiding using them.\n",
      "2022-03-14 15:27:44.971356: W tensorflow/core/framework/cpu_allocator_impl.cc:80] Allocation of 1507876800 exceeds 10% of free system memory.\n"
     ]
    },
    {
     "name": "stdout",
     "output_type": "stream",
     "text": [
      "Epoch 2/100\n",
      "2455/2455 [==============================] - 16s 7ms/step - loss: 0.8423 - mse: 0.8352 - mae: 0.6261 - mape: 114088.4531 - rmse: 0.9139 - val_loss: 0.8394 - val_mse: 0.8354 - val_mae: 0.6291 - val_mape: 132740.7969 - val_rmse: 0.9140\n",
      "Epoch 3/100\n",
      "2455/2455 [==============================] - 16s 7ms/step - loss: 0.8367 - mse: 0.8325 - mae: 0.6252 - mape: 125150.0156 - rmse: 0.9124 - val_loss: 0.8374 - val_mse: 0.8339 - val_mae: 0.6280 - val_mape: 160339.0938 - val_rmse: 0.9132\n",
      "Epoch 4/100\n",
      "2455/2455 [==============================] - 16s 7ms/step - loss: 0.8346 - mse: 0.8308 - mae: 0.6245 - mape: 134486.4375 - rmse: 0.9115 - val_loss: 0.8364 - val_mse: 0.8332 - val_mae: 0.6276 - val_mape: 171211.8281 - val_rmse: 0.9128\n",
      "Epoch 5/100\n",
      "2455/2455 [==============================] - 16s 7ms/step - loss: 0.8331 - mse: 0.8296 - mae: 0.6240 - mape: 137977.9062 - rmse: 0.9108 - val_loss: 0.8356 - val_mse: 0.8327 - val_mae: 0.6277 - val_mape: 165560.9688 - val_rmse: 0.9125\n",
      "Epoch 6/100\n",
      "2455/2455 [==============================] - 16s 7ms/step - loss: 0.8322 - mse: 0.8289 - mae: 0.6238 - mape: 139603.4531 - rmse: 0.9105 - val_loss: 0.8350 - val_mse: 0.8322 - val_mae: 0.6271 - val_mape: 178303.6094 - val_rmse: 0.9123\n",
      "Epoch 7/100\n",
      "2455/2455 [==============================] - 16s 7ms/step - loss: 0.8317 - mse: 0.8284 - mae: 0.6236 - mape: 139489.0938 - rmse: 0.9102 - val_loss: 0.8346 - val_mse: 0.8320 - val_mae: 0.6271 - val_mape: 177788.4375 - val_rmse: 0.9121\n",
      "Epoch 8/100\n",
      "2455/2455 [==============================] - 16s 7ms/step - loss: 0.8310 - mse: 0.8279 - mae: 0.6234 - mape: 139003.4062 - rmse: 0.9099 - val_loss: 0.8342 - val_mse: 0.8317 - val_mae: 0.6268 - val_mape: 175110.3438 - val_rmse: 0.9120\n",
      "Epoch 9/100\n",
      "2455/2455 [==============================] - 17s 7ms/step - loss: 0.8308 - mse: 0.8276 - mae: 0.6233 - mape: 140522.3125 - rmse: 0.9097 - val_loss: 0.8340 - val_mse: 0.8314 - val_mae: 0.6265 - val_mape: 182829.2969 - val_rmse: 0.9118\n",
      "Epoch 10/100\n",
      "2455/2455 [==============================] - 16s 7ms/step - loss: 0.8301 - mse: 0.8270 - mae: 0.6230 - mape: 142788.1406 - rmse: 0.9094 - val_loss: 0.8336 - val_mse: 0.8311 - val_mae: 0.6270 - val_mape: 171908.5156 - val_rmse: 0.9117\n",
      "Epoch 11/100\n",
      "2455/2455 [==============================] - 16s 7ms/step - loss: 0.8295 - mse: 0.8265 - mae: 0.6229 - mape: 142316.4375 - rmse: 0.9091 - val_loss: 0.8333 - val_mse: 0.8308 - val_mae: 0.6270 - val_mape: 166344.6875 - val_rmse: 0.9115\n",
      "Epoch 12/100\n",
      "2455/2455 [==============================] - 16s 7ms/step - loss: 0.8288 - mse: 0.8259 - mae: 0.6227 - mape: 143409.6719 - rmse: 0.9088 - val_loss: 0.8331 - val_mse: 0.8308 - val_mae: 0.6269 - val_mape: 166244.6094 - val_rmse: 0.9115\n",
      "Epoch 13/100\n",
      "2455/2455 [==============================] - 16s 6ms/step - loss: 0.8287 - mse: 0.8256 - mae: 0.6226 - mape: 142604.6250 - rmse: 0.9086 - val_loss: 0.8329 - val_mse: 0.8305 - val_mae: 0.6265 - val_mape: 170359.1562 - val_rmse: 0.9113\n",
      "Epoch 14/100\n",
      "2455/2455 [==============================] - 17s 7ms/step - loss: 0.8278 - mse: 0.8249 - mae: 0.6224 - mape: 143245.9219 - rmse: 0.9082 - val_loss: 0.8328 - val_mse: 0.8304 - val_mae: 0.6266 - val_mape: 165499.7344 - val_rmse: 0.9112\n",
      "Epoch 15/100\n",
      "2455/2455 [==============================] - 16s 7ms/step - loss: 0.8273 - mse: 0.8244 - mae: 0.6223 - mape: 141574.7188 - rmse: 0.9080 - val_loss: 0.8325 - val_mse: 0.8302 - val_mae: 0.6265 - val_mape: 158766.6562 - val_rmse: 0.9111\n",
      "Epoch 16/100\n",
      "2455/2455 [==============================] - 16s 7ms/step - loss: 0.8268 - mse: 0.8239 - mae: 0.6221 - mape: 143612.2656 - rmse: 0.9077 - val_loss: 0.8323 - val_mse: 0.8299 - val_mae: 0.6262 - val_mape: 167954.2344 - val_rmse: 0.9110\n",
      "Epoch 17/100\n",
      "2455/2455 [==============================] - 17s 7ms/step - loss: 0.8263 - mse: 0.8234 - mae: 0.6220 - mape: 144355.7344 - rmse: 0.9074 - val_loss: 0.8322 - val_mse: 0.8298 - val_mae: 0.6268 - val_mape: 158103.8906 - val_rmse: 0.9109\n",
      "Epoch 18/100\n",
      "2455/2455 [==============================] - 16s 6ms/step - loss: 0.8259 - mse: 0.8230 - mae: 0.6218 - mape: 142824.2656 - rmse: 0.9072 - val_loss: 0.8321 - val_mse: 0.8297 - val_mae: 0.6261 - val_mape: 169566.7344 - val_rmse: 0.9109\n",
      "Epoch 19/100\n",
      "2455/2455 [==============================] - 16s 7ms/step - loss: 0.8254 - mse: 0.8224 - mae: 0.6217 - mape: 144898.0156 - rmse: 0.9069 - val_loss: 0.8318 - val_mse: 0.8294 - val_mae: 0.6265 - val_mape: 155442.2344 - val_rmse: 0.9107\n",
      "Epoch 20/100\n",
      "2455/2455 [==============================] - 16s 7ms/step - loss: 0.8249 - mse: 0.8220 - mae: 0.6216 - mape: 144538.9375 - rmse: 0.9066 - val_loss: 0.8317 - val_mse: 0.8293 - val_mae: 0.6268 - val_mape: 151456.1094 - val_rmse: 0.9107\n",
      "Epoch 21/100\n",
      "2455/2455 [==============================] - 16s 7ms/step - loss: 0.8243 - mse: 0.8213 - mae: 0.6213 - mape: 145515.0312 - rmse: 0.9062 - val_loss: 0.8315 - val_mse: 0.8291 - val_mae: 0.6264 - val_mape: 162812.4062 - val_rmse: 0.9105\n",
      "Epoch 22/100\n",
      "2455/2455 [==============================] - 17s 7ms/step - loss: 0.8238 - mse: 0.8208 - mae: 0.6212 - mape: 146240.5000 - rmse: 0.9060 - val_loss: 0.8316 - val_mse: 0.8292 - val_mae: 0.6267 - val_mape: 154660.9219 - val_rmse: 0.9106\n",
      "Epoch 23/100\n",
      "2455/2455 [==============================] - 16s 7ms/step - loss: 0.8233 - mse: 0.8203 - mae: 0.6211 - mape: 145284.6875 - rmse: 0.9057 - val_loss: 0.8315 - val_mse: 0.8290 - val_mae: 0.6269 - val_mape: 155002.8125 - val_rmse: 0.9105\n",
      "Epoch 24/100\n",
      "2455/2455 [==============================] - 17s 7ms/step - loss: 0.8226 - mse: 0.8196 - mae: 0.6209 - mape: 148687.9062 - rmse: 0.9053 - val_loss: 0.8311 - val_mse: 0.8286 - val_mae: 0.6262 - val_mape: 158030.6406 - val_rmse: 0.9103\n",
      "Epoch 25/100\n",
      "2455/2455 [==============================] - 16s 7ms/step - loss: 0.8218 - mse: 0.8187 - mae: 0.6207 - mape: 147386.5000 - rmse: 0.9048 - val_loss: 0.8309 - val_mse: 0.8284 - val_mae: 0.6264 - val_mape: 155436.9688 - val_rmse: 0.9102\n",
      "Epoch 26/100\n",
      "2455/2455 [==============================] - 17s 7ms/step - loss: 0.8213 - mse: 0.8182 - mae: 0.6205 - mape: 150631.6250 - rmse: 0.9045 - val_loss: 0.8310 - val_mse: 0.8285 - val_mae: 0.6267 - val_mape: 155159.2969 - val_rmse: 0.9102\n",
      "Epoch 27/100\n",
      "2455/2455 [==============================] - 16s 7ms/step - loss: 0.8205 - mse: 0.8174 - mae: 0.6203 - mape: 151794.2344 - rmse: 0.9041 - val_loss: 0.8310 - val_mse: 0.8284 - val_mae: 0.6271 - val_mape: 155450.5938 - val_rmse: 0.9102\n",
      "Epoch 28/100\n",
      "2455/2455 [==============================] - 17s 7ms/step - loss: 0.8199 - mse: 0.8167 - mae: 0.6201 - mape: 150246.3750 - rmse: 0.9037 - val_loss: 0.8310 - val_mse: 0.8284 - val_mae: 0.6270 - val_mape: 159380.5000 - val_rmse: 0.9102\n",
      "Epoch 29/100\n",
      "2455/2455 [==============================] - 16s 7ms/step - loss: 0.8192 - mse: 0.8160 - mae: 0.6199 - mape: 154357.5781 - rmse: 0.9033 - val_loss: 0.8305 - val_mse: 0.8279 - val_mae: 0.6261 - val_mape: 170279.0312 - val_rmse: 0.9099\n",
      "Epoch 30/100\n",
      "2455/2455 [==============================] - 17s 7ms/step - loss: 0.8184 - mse: 0.8151 - mae: 0.6197 - mape: 154642.7344 - rmse: 0.9028 - val_loss: 0.8307 - val_mse: 0.8281 - val_mae: 0.6268 - val_mape: 158837.8750 - val_rmse: 0.9100\n",
      "Epoch 31/100\n",
      "2455/2455 [==============================] - 17s 7ms/step - loss: 0.8177 - mse: 0.8143 - mae: 0.6196 - mape: 156847.9219 - rmse: 0.9024 - val_loss: 0.8305 - val_mse: 0.8278 - val_mae: 0.6266 - val_mape: 168702.7031 - val_rmse: 0.9098\n",
      "Epoch 32/100\n",
      "2455/2455 [==============================] - 18s 7ms/step - loss: 0.8168 - mse: 0.8135 - mae: 0.6193 - mape: 159885.2656 - rmse: 0.9019 - val_loss: 0.8305 - val_mse: 0.8277 - val_mae: 0.6270 - val_mape: 155937.4844 - val_rmse: 0.9098\n",
      "Epoch 33/100\n",
      "2455/2455 [==============================] - 16s 7ms/step - loss: 0.8161 - mse: 0.8126 - mae: 0.6191 - mape: 157847.8906 - rmse: 0.9015 - val_loss: 0.8306 - val_mse: 0.8277 - val_mae: 0.6268 - val_mape: 167009.6562 - val_rmse: 0.9098\n",
      "Epoch 34/100\n",
      "2455/2455 [==============================] - 17s 7ms/step - loss: 0.8152 - mse: 0.8118 - mae: 0.6189 - mape: 162771.8438 - rmse: 0.9010 - val_loss: 0.8303 - val_mse: 0.8274 - val_mae: 0.6267 - val_mape: 163304.8125 - val_rmse: 0.9096\n",
      "Epoch 35/100\n",
      "2455/2455 [==============================] - 17s 7ms/step - loss: 0.8144 - mse: 0.8108 - mae: 0.6187 - mape: 162595.7344 - rmse: 0.9005 - val_loss: 0.8303 - val_mse: 0.8274 - val_mae: 0.6262 - val_mape: 171235.2031 - val_rmse: 0.9096\n",
      "Epoch 36/100\n",
      "2455/2455 [==============================] - 17s 7ms/step - loss: 0.8136 - mse: 0.8100 - mae: 0.6184 - mape: 162894.3438 - rmse: 0.9000 - val_loss: 0.8305 - val_mse: 0.8274 - val_mae: 0.6263 - val_mape: 175244.0625 - val_rmse: 0.9096\n",
      "Epoch 37/100\n",
      "2455/2455 [==============================] - 18s 7ms/step - loss: 0.8127 - mse: 0.8090 - mae: 0.6182 - mape: 165616.3438 - rmse: 0.8995 - val_loss: 0.8305 - val_mse: 0.8274 - val_mae: 0.6266 - val_mape: 175081.8281 - val_rmse: 0.9096\n",
      "Epoch 38/100\n",
      "2455/2455 [==============================] - 16s 6ms/step - loss: 0.8118 - mse: 0.8080 - mae: 0.6180 - mape: 167675.3438 - rmse: 0.8989 - val_loss: 0.8308 - val_mse: 0.8275 - val_mae: 0.6260 - val_mape: 181920.8281 - val_rmse: 0.9097\n",
      "Epoch 39/100\n",
      "2455/2455 [==============================] - 17s 7ms/step - loss: 0.8108 - mse: 0.8070 - mae: 0.6177 - mape: 166899.7969 - rmse: 0.8983 - val_loss: 0.8312 - val_mse: 0.8278 - val_mae: 0.6260 - val_mape: 192775.4219 - val_rmse: 0.9098\n",
      "Epoch 40/100\n",
      "2455/2455 [==============================] - 16s 7ms/step - loss: 0.8100 - mse: 0.8060 - mae: 0.6174 - mape: 168698.3750 - rmse: 0.8978 - val_loss: 0.8311 - val_mse: 0.8276 - val_mae: 0.6261 - val_mape: 187870.1719 - val_rmse: 0.9097\n",
      "Epoch 41/100\n",
      "2455/2455 [==============================] - 18s 7ms/step - loss: 0.8091 - mse: 0.8051 - mae: 0.6172 - mape: 170422.3594 - rmse: 0.8973 - val_loss: 0.8317 - val_mse: 0.8281 - val_mae: 0.6258 - val_mape: 203667.7031 - val_rmse: 0.9100\n",
      "Epoch 42/100\n",
      "2455/2455 [==============================] - 16s 7ms/step - loss: 0.8080 - mse: 0.8040 - mae: 0.6169 - mape: 170188.1250 - rmse: 0.8966 - val_loss: 0.8321 - val_mse: 0.8286 - val_mae: 0.6260 - val_mape: 212190.4375 - val_rmse: 0.9103\n",
      "Epoch 43/100\n",
      "2455/2455 [==============================] - 18s 7ms/step - loss: 0.8071 - mse: 0.8030 - mae: 0.6167 - mape: 173686.7344 - rmse: 0.8961 - val_loss: 0.8320 - val_mse: 0.8283 - val_mae: 0.6256 - val_mape: 211216.5469 - val_rmse: 0.9101\n",
      "Epoch 44/100\n",
      "2455/2455 [==============================] - 16s 6ms/step - loss: 0.8059 - mse: 0.8017 - mae: 0.6163 - mape: 174446.6875 - rmse: 0.8954 - val_loss: 0.8327 - val_mse: 0.8291 - val_mae: 0.6260 - val_mape: 217888.9531 - val_rmse: 0.9105\n",
      "CPU times: user 14min 36s, sys: 1min 55s, total: 16min 31s\n",
      "Wall time: 15min 18s\n"
     ]
    }
   ],
   "source": [
    "%%time\n",
    "from sklearn.model_selection import StratifiedKFold\n",
    "kfold = StratifiedKFold(5, shuffle=True, random_state=42)\n",
    "models = []\n",
    "for index, (train_indices, valid_indices) in enumerate(kfold.split(train,investment_id)):\n",
    "    X_train, X_val = train.iloc[train_indices], train.iloc[valid_indices]\n",
    "    #investment_id_train = investment_id[train_indices]\n",
    "    y_train, y_val = y.iloc[train_indices], y.iloc[valid_indices]\n",
    "    #investment_id_val = investment_id[valid_indices]\n",
    "    train_ds = make_dataset(X_train, y_train)\n",
    "    valid_ds = make_dataset(X_val, y_val, mode=\"valid\")\n",
    "    model = get_model()\n",
    "    checkpoint = keras.callbacks.ModelCheckpoint(f\"model_{index}\", save_best_only=True)\n",
    "    early_stop = keras.callbacks.EarlyStopping(patience=10)\n",
    "    history = model.fit(train_ds, epochs=100, validation_data=valid_ds, callbacks=[checkpoint, early_stop])\n",
    "    model = keras.models.load_model(f\"model_{index}\")\n",
    "    models.append(model)\n",
    "    #pearson_score = stats.pearsonr(model.predict(valid_ds).ravel(), y_val.values)[0]\n",
    "    #print('Pearson:', pearson_score)\n",
    "    #pd.DataFrame(history.history, columns=[\"mse\", \"val_mse\"]).plot()\n",
    "    #plt.title(\"MSE\")\n",
    "    #plt.show()\n",
    "    #pd.DataFrame(history.history, columns=[\"mae\", \"val_mae\"]).plot()\n",
    "    #plt.title(\"MAE\")\n",
    "    #plt.show()\n",
    "    #pd.DataFrame(history.history, columns=[\"rmse\", \"val_rmse\"]).plot()\n",
    "    #plt.title(\"RMSE\")\n",
    "    #plt.show()\n",
    "    #del investment_id_train\n",
    "    #del investment_id_val\n",
    "    del X_train\n",
    "    del X_val\n",
    "    del y_train\n",
    "    del y_val\n",
    "    del train_ds\n",
    "    del valid_ds\n",
    "    gc.collect()\n",
    "    break"
   ]
  },
  {
   "cell_type": "code",
   "execution_count": 15,
   "id": "94123c59",
   "metadata": {
    "execution": {
     "iopub.execute_input": "2022-03-14T15:42:26.879527Z",
     "iopub.status.busy": "2022-03-14T15:42:26.878715Z",
     "iopub.status.idle": "2022-03-14T15:42:26.882131Z",
     "shell.execute_reply": "2022-03-14T15:42:26.881648Z",
     "shell.execute_reply.started": "2022-03-14T15:04:52.289230Z"
    },
    "papermill": {
     "duration": 3.239116,
     "end_time": "2022-03-14T15:42:26.882255",
     "exception": false,
     "start_time": "2022-03-14T15:42:23.643139",
     "status": "completed"
    },
    "tags": []
   },
   "outputs": [],
   "source": [
    "def preprocess_test(feature):\n",
    "    return (feature), 0\n",
    "def make_test_dataset(feature, investment_id, batch_size=1024):\n",
    "    ds = tf.data.Dataset.from_tensor_slices(((feature)))\n",
    "    ds = ds.map(preprocess_test)\n",
    "    #ds = ds.batch(batch_size)\n",
    "    ds = ds.batch(batch_size).cache().prefetch(tf.data.experimental.AUTOTUNE)\n",
    "    return ds\n",
    "def inference(models, ds):\n",
    "    y_preds = []\n",
    "    for model in models:\n",
    "        y_pred = model.predict(ds)\n",
    "        y_preds.append(y_pred)\n",
    "    return np.mean(y_preds, axis=0)"
   ]
  },
  {
   "cell_type": "code",
   "execution_count": 16,
   "id": "9f679b69",
   "metadata": {
    "execution": {
     "iopub.execute_input": "2022-03-14T15:42:33.492396Z",
     "iopub.status.busy": "2022-03-14T15:42:33.491801Z",
     "iopub.status.idle": "2022-03-14T15:42:33.870975Z",
     "shell.execute_reply": "2022-03-14T15:42:33.870442Z",
     "shell.execute_reply.started": "2022-03-14T15:04:52.299653Z"
    },
    "papermill": {
     "duration": 3.831405,
     "end_time": "2022-03-14T15:42:33.871108",
     "exception": false,
     "start_time": "2022-03-14T15:42:30.039703",
     "status": "completed"
    },
    "tags": []
   },
   "outputs": [
    {
     "name": "stdout",
     "output_type": "stream",
     "text": [
      "This version of the API is not optimized and should not be used to estimate the runtime of your code on the hidden test set.\n"
     ]
    }
   ],
   "source": [
    "import ubiquant\n",
    "env = ubiquant.make_env()\n",
    "iter_test = env.iter_test() \n",
    "for (test_df, sample_prediction_df) in iter_test:\n",
    "    ds = make_test_dataset(test_df[feature], test_df[\"investment_id\"])\n",
    "    sample_prediction_df['target'] = inference(models, ds)\n",
    "    env.predict(sample_prediction_df) "
   ]
  },
  {
   "cell_type": "code",
   "execution_count": 17,
   "id": "7b116d59",
   "metadata": {
    "execution": {
     "iopub.execute_input": "2022-03-14T15:42:40.228064Z",
     "iopub.status.busy": "2022-03-14T15:42:40.226370Z",
     "iopub.status.idle": "2022-03-14T15:42:40.230215Z",
     "shell.execute_reply": "2022-03-14T15:42:40.229765Z",
     "shell.execute_reply.started": "2022-03-14T15:04:52.675501Z"
    },
    "papermill": {
     "duration": 3.200857,
     "end_time": "2022-03-14T15:42:40.230330",
     "exception": false,
     "start_time": "2022-03-14T15:42:37.029473",
     "status": "completed"
    },
    "tags": []
   },
   "outputs": [
    {
     "name": "stdout",
     "output_type": "stream",
     "text": [
      "Completed at:  2022-03-14 15:42:40.223941\n"
     ]
    }
   ],
   "source": [
    "from datetime import datetime\n",
    "\n",
    "# datetime object containing current date and time\n",
    "now = datetime.now()\n",
    " \n",
    "print(\"Completed at: \", now)\n"
   ]
  },
  {
   "cell_type": "code",
   "execution_count": null,
   "id": "3c0b3165",
   "metadata": {
    "papermill": {
     "duration": 3.210814,
     "end_time": "2022-03-14T15:42:46.859587",
     "exception": false,
     "start_time": "2022-03-14T15:42:43.648773",
     "status": "completed"
    },
    "tags": []
   },
   "outputs": [],
   "source": []
  }
 ],
 "metadata": {
  "kernelspec": {
   "display_name": "Python 3",
   "language": "python",
   "name": "python3"
  },
  "language_info": {
   "codemirror_mode": {
    "name": "ipython",
    "version": 3
   },
   "file_extension": ".py",
   "mimetype": "text/x-python",
   "name": "python",
   "nbconvert_exporter": "python",
   "pygments_lexer": "ipython3",
   "version": "3.7.12"
  },
  "papermill": {
   "default_parameters": {},
   "duration": 1197.147442,
   "end_time": "2022-03-14T15:42:53.321883",
   "environment_variables": {},
   "exception": null,
   "input_path": "__notebook__.ipynb",
   "output_path": "__notebook__.ipynb",
   "parameters": {},
   "start_time": "2022-03-14T15:22:56.174441",
   "version": "2.3.3"
  }
 },
 "nbformat": 4,
 "nbformat_minor": 5
}
